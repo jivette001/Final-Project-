{
 "cells": [
  {
   "cell_type": "code",
   "execution_count": 1,
   "id": "75ff8fe0",
   "metadata": {},
   "outputs": [],
   "source": [
    "import pandas as pd"
   ]
  },
  {
   "cell_type": "code",
   "execution_count": 2,
   "id": "68d93c3f",
   "metadata": {},
   "outputs": [],
   "source": [
    "df=pd.read_csv('Data/covid19vaccinesbycounty.csv')"
   ]
  },
  {
   "cell_type": "code",
   "execution_count": null,
   "id": "d55ac67c",
   "metadata": {},
   "outputs": [],
   "source": []
  }
 ],
 "metadata": {
  "kernelspec": {
   "display_name": "Python 3 (ipykernel)",
   "language": "python",
   "name": "python3"
  },
  "language_info": {
   "codemirror_mode": {
    "name": "ipython",
    "version": 3
   },
   "file_extension": ".py",
   "mimetype": "text/x-python",
   "name": "python",
   "nbconvert_exporter": "python",
   "pygments_lexer": "ipython3",
   "version": "3.9.7"
  }
 },
 "nbformat": 4,
 "nbformat_minor": 5
}
